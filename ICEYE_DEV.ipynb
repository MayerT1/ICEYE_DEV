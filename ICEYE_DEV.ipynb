{
  "nbformat": 4,
  "nbformat_minor": 0,
  "metadata": {
    "colab": {
      "provenance": [],
      "authorship_tag": "ABX9TyNevUHPkVR3cukrhkCYMEEc",
      "include_colab_link": true
    },
    "kernelspec": {
      "name": "python3",
      "display_name": "Python 3"
    },
    "language_info": {
      "name": "python"
    }
  },
  "cells": [
    {
      "cell_type": "markdown",
      "metadata": {
        "id": "view-in-github",
        "colab_type": "text"
      },
      "source": [
        "<a href=\"https://colab.research.google.com/github/MayerT1/ICEYE_DEV/blob/main/ICEYE_DEV.ipynb\" target=\"_parent\"><img src=\"https://colab.research.google.com/assets/colab-badge.svg\" alt=\"Open In Colab\"/></a>"
      ]
    },
    {
      "cell_type": "markdown",
      "source": [
        "https://servir-mekong.github.io/hydra-floods/"
      ],
      "metadata": {
        "id": "v59YuMlc0T03"
      }
    },
    {
      "cell_type": "markdown",
      "source": [
        "https://www.iceye.com/lp/example-scan-dataset-panama-canal/thank-you-download-example-scan-dataset-panama-canal?submissionGuid=2622e80d-2f00-4544-9ca7-60cdea2d3483"
      ],
      "metadata": {
        "id": "edQc9TD70YOY"
      }
    },
    {
      "cell_type": "code",
      "source": [
        "from google.colab import drive\n",
        "drive.mount('/content/drive/')"
      ],
      "metadata": {
        "colab": {
          "base_uri": "https://localhost:8080/"
        },
        "id": "9FtAM3Oc0X6m",
        "outputId": "54e780f5-4abe-4e2c-ec00-cc4121f65dfb"
      },
      "execution_count": 1,
      "outputs": [
        {
          "output_type": "stream",
          "name": "stdout",
          "text": [
            "Drive already mounted at /content/drive/; to attempt to forcibly remount, call drive.mount(\"/content/drive/\", force_remount=True).\n"
          ]
        }
      ]
    },
    {
      "cell_type": "code",
      "source": [
        "!ls"
      ],
      "metadata": {
        "colab": {
          "base_uri": "https://localhost:8080/"
        },
        "id": "cY6EqkRu1Yjc",
        "outputId": "93345d7e-d1c5-49aa-e7eb-db94ecabfdf9"
      },
      "execution_count": 2,
      "outputs": [
        {
          "output_type": "stream",
          "name": "stdout",
          "text": [
            "drive  sample_data\n"
          ]
        }
      ]
    },
    {
      "cell_type": "markdown",
      "source": [
        "edge_otsu(img, band=None, region=None, scale=90, initial_threshold=0, thresh_no_data=None, invert=False, canny_threshold=0.05, canny_sigma=0, canny_lt=0.05, connected_pixels=200, edge_length=50, edge_buffer=100, max_buckets=255, min_bucket_width=0.001, max_raw=1000000.0, return_threshold=False)"
      ],
      "metadata": {
        "id": "D1wwB-xt6tAq"
      }
    },
    {
      "cell_type": "code",
      "source": [
        "!pip install rasterio scikit-image matplotlib\n",
        "\n",
        "import rasterio\n",
        "import numpy as np\n",
        "import matplotlib.pyplot as plt\n",
        "from skimage.filters import threshold_otsu\n",
        "\n",
        "# === File paths ===\n",
        "input_path = '/content/drive/MyDrive/ICEYE_Data/ICEYE_Export.tif'\n",
        "output_path = '/content/drive/MyDrive/ICEYE_Data/ICEYE_EdgeOtsu_Classification.tif'\n",
        "\n",
        "# === Load TIFF ===\n",
        "with rasterio.open(input_path) as src:\n",
        "    band1 = src.read(1)\n",
        "    profile = src.profile\n",
        "\n",
        "# === Handle nodata ===\n",
        "nodata = profile.get('nodata', None)\n",
        "if nodata is not None:\n",
        "    band1 = np.where(band1 == nodata, np.nan, band1)\n",
        "\n",
        "# === Apply Otsu thresholding ===\n",
        "band1_valid = band1[~np.isnan(band1)]\n",
        "threshold = threshold_otsu(band1_valid)\n",
        "print(f\"Otsu Threshold: {threshold}\")\n",
        "\n",
        "# Create binary mask\n",
        "binary_mask = (band1 > threshold).astype(np.uint8)\n",
        "\n",
        "# === Save output TIFF ===\n",
        "output_profile = profile.copy()\n",
        "output_profile.update({\n",
        "    'dtype': 'uint8',\n",
        "    'count': 1,\n",
        "    'nodata': 0\n",
        "})\n",
        "\n",
        "with rasterio.open(output_path, 'w', **output_profile) as dst:\n",
        "    dst.write(binary_mask, 1)\n",
        "\n",
        "print(f\"Saved classified image to: {output_path}\")\n",
        "\n",
        "# === Plot original and result ===\n",
        "fig, (ax1, ax2) = plt.subplots(1, 2, figsize=(14, 7))\n",
        "\n",
        "ax1.set_title(\"Original Band\")\n",
        "im1 = ax1.imshow(band1, cmap='gray')\n",
        "plt.colorbar(im1, ax=ax1)\n",
        "\n",
        "ax2.set_title(\"Otsu Thresholded Mask\")\n",
        "im2 = ax2.imshow(binary_mask, cmap='gray')\n",
        "plt.colorbar(im2, ax=ax2)\n",
        "\n",
        "plt.tight_layout()\n",
        "plt.show()\n"
      ],
      "metadata": {
        "colab": {
          "base_uri": "https://localhost:8080/"
        },
        "id": "LgNv74JJD2YX",
        "outputId": "bc660b64-047e-4c08-c48f-db3eab50ae1a"
      },
      "execution_count": null,
      "outputs": [
        {
          "output_type": "stream",
          "name": "stdout",
          "text": [
            "Requirement already satisfied: rasterio in /usr/local/lib/python3.11/dist-packages (1.4.3)\n",
            "Requirement already satisfied: scikit-image in /usr/local/lib/python3.11/dist-packages (0.25.2)\n",
            "Requirement already satisfied: matplotlib in /usr/local/lib/python3.11/dist-packages (3.10.0)\n",
            "Requirement already satisfied: affine in /usr/local/lib/python3.11/dist-packages (from rasterio) (2.4.0)\n",
            "Requirement already satisfied: attrs in /usr/local/lib/python3.11/dist-packages (from rasterio) (25.3.0)\n",
            "Requirement already satisfied: certifi in /usr/local/lib/python3.11/dist-packages (from rasterio) (2025.4.26)\n",
            "Requirement already satisfied: click>=4.0 in /usr/local/lib/python3.11/dist-packages (from rasterio) (8.1.8)\n",
            "Requirement already satisfied: cligj>=0.5 in /usr/local/lib/python3.11/dist-packages (from rasterio) (0.7.2)\n",
            "Requirement already satisfied: numpy>=1.24 in /usr/local/lib/python3.11/dist-packages (from rasterio) (2.0.2)\n",
            "Requirement already satisfied: click-plugins in /usr/local/lib/python3.11/dist-packages (from rasterio) (1.1.1)\n",
            "Requirement already satisfied: pyparsing in /usr/local/lib/python3.11/dist-packages (from rasterio) (3.2.3)\n",
            "Requirement already satisfied: scipy>=1.11.4 in /usr/local/lib/python3.11/dist-packages (from scikit-image) (1.15.3)\n",
            "Requirement already satisfied: networkx>=3.0 in /usr/local/lib/python3.11/dist-packages (from scikit-image) (3.4.2)\n",
            "Requirement already satisfied: pillow>=10.1 in /usr/local/lib/python3.11/dist-packages (from scikit-image) (11.2.1)\n",
            "Requirement already satisfied: imageio!=2.35.0,>=2.33 in /usr/local/lib/python3.11/dist-packages (from scikit-image) (2.37.0)\n",
            "Requirement already satisfied: tifffile>=2022.8.12 in /usr/local/lib/python3.11/dist-packages (from scikit-image) (2025.3.30)\n",
            "Requirement already satisfied: packaging>=21 in /usr/local/lib/python3.11/dist-packages (from scikit-image) (24.2)\n",
            "Requirement already satisfied: lazy-loader>=0.4 in /usr/local/lib/python3.11/dist-packages (from scikit-image) (0.4)\n",
            "Requirement already satisfied: contourpy>=1.0.1 in /usr/local/lib/python3.11/dist-packages (from matplotlib) (1.3.2)\n",
            "Requirement already satisfied: cycler>=0.10 in /usr/local/lib/python3.11/dist-packages (from matplotlib) (0.12.1)\n",
            "Requirement already satisfied: fonttools>=4.22.0 in /usr/local/lib/python3.11/dist-packages (from matplotlib) (4.57.0)\n",
            "Requirement already satisfied: kiwisolver>=1.3.1 in /usr/local/lib/python3.11/dist-packages (from matplotlib) (1.4.8)\n",
            "Requirement already satisfied: python-dateutil>=2.7 in /usr/local/lib/python3.11/dist-packages (from matplotlib) (2.9.0.post0)\n",
            "Requirement already satisfied: six>=1.5 in /usr/local/lib/python3.11/dist-packages (from python-dateutil>=2.7->matplotlib) (1.17.0)\n",
            "Otsu Threshold: 84\n",
            "Saved classified image to: /content/drive/MyDrive/ICEYE_Data/ICEYE_EdgeOtsu_Classification.tif\n"
          ]
        }
      ]
    }
  ]
}